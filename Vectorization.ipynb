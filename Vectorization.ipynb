{
  "nbformat": 4,
  "nbformat_minor": 0,
  "metadata": {
    "colab": {
      "name": "Vectorization.ipynb",
      "version": "0.3.2",
      "provenance": [],
      "collapsed_sections": [],
      "include_colab_link": true
    },
    "kernelspec": {
      "name": "python3",
      "display_name": "Python 3"
    }
  },
  "cells": [
    {
      "cell_type": "markdown",
      "metadata": {
        "id": "view-in-github",
        "colab_type": "text"
      },
      "source": [
        "<a href=\"https://colab.research.google.com/github/hgs3896/Deep-Learning/blob/master/Vectorization.ipynb\" target=\"_parent\"><img src=\"https://colab.research.google.com/assets/colab-badge.svg\" alt=\"Open In Colab\"/></a>"
      ]
    },
    {
      "metadata": {
        "id": "gTAIMsLc5m7j",
        "colab_type": "code",
        "colab": {}
      },
      "cell_type": "code",
      "source": [
        "import numpy as np\n",
        "from time import time"
      ],
      "execution_count": 0,
      "outputs": []
    },
    {
      "metadata": {
        "id": "Ezibz6mV5s9V",
        "colab_type": "code",
        "colab": {}
      },
      "cell_type": "code",
      "source": [
        "a, b = np.random.random(10 ** 7), np.random.random(10 ** 7)"
      ],
      "execution_count": 0,
      "outputs": []
    },
    {
      "metadata": {
        "id": "48H4TzxV5YXi",
        "colab_type": "text"
      },
      "cell_type": "markdown",
      "source": [
        "Non-vectorized Version of calculating a product of two vectors (by naive approach)"
      ]
    },
    {
      "metadata": {
        "id": "jot3OBQX5lgV",
        "colab_type": "code",
        "colab": {
          "base_uri": "https://localhost:8080/",
          "height": 34
        },
        "outputId": "1ae96864-548c-47aa-e1d6-eb0a73575a6b"
      },
      "cell_type": "code",
      "source": [
        "tic = time()\n",
        "\n",
        "sum = 0\n",
        "for item1, item2 in zip(a, b):\n",
        "  sum += item1 * item2\n",
        "\n",
        "toc = time()\n",
        "print(toc-tic, sum)"
      ],
      "execution_count": 3,
      "outputs": [
        {
          "output_type": "stream",
          "text": [
            "3.1991124153137207 2500191.619989301\n"
          ],
          "name": "stdout"
        }
      ]
    },
    {
      "metadata": {
        "id": "ulnUfKmN5yr4",
        "colab_type": "text"
      },
      "cell_type": "markdown",
      "source": [
        "Non-vectorized Version of calculating a product of two vectors (by calling function)"
      ]
    },
    {
      "metadata": {
        "id": "qcJ-dDRZ5zOf",
        "colab_type": "code",
        "colab": {
          "base_uri": "https://localhost:8080/",
          "height": 34
        },
        "outputId": "bc14d201-e149-4326-f794-0a15ded13116"
      },
      "cell_type": "code",
      "source": [
        "tic = time()\n",
        "\n",
        "def product(a, b):\n",
        "  sum = 0\n",
        "  for item1, item2 in zip(a, b):\n",
        "    sum += item1 * item2\n",
        "  return sum\n",
        "\n",
        "sum = product(a, b)\n",
        "\n",
        "toc = time()\n",
        "print(toc-tic, sum)"
      ],
      "execution_count": 4,
      "outputs": [
        {
          "output_type": "stream",
          "text": [
            "2.3463141918182373 2500191.619989301\n"
          ],
          "name": "stdout"
        }
      ]
    },
    {
      "metadata": {
        "id": "Rd2oV8J15zZl",
        "colab_type": "text"
      },
      "cell_type": "markdown",
      "source": [
        "Vectorized Version of calculating a product of two vectors (by using a numpy method)"
      ]
    },
    {
      "metadata": {
        "id": "CEaXBzh35zlz",
        "colab_type": "code",
        "colab": {
          "base_uri": "https://localhost:8080/",
          "height": 34
        },
        "outputId": "fc7ad1d5-9b2b-43d8-b4cd-e30419ac82fe"
      },
      "cell_type": "code",
      "source": [
        "tic = time()\n",
        "\n",
        "sum = a @ b\n",
        "\n",
        "toc = time()\n",
        "print(toc-tic, sum)"
      ],
      "execution_count": 5,
      "outputs": [
        {
          "output_type": "stream",
          "text": [
            "0.027179241180419922 2500191.6199892033\n"
          ],
          "name": "stdout"
        }
      ]
    }
  ]
}